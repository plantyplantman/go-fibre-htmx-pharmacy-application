{
 "cells": [
  {
   "cell_type": "code",
   "execution_count": 8,
   "metadata": {},
   "outputs": [],
   "source": [
    "import ftplib\n",
    "\n",
    "def upload_file(ftp_host, ftp_user, ftp_password, file_path, target_path):\n",
    "    # Connect to the FTP server\n",
    "    ftp = ftplib.FTP(ftp_host)\n",
    "    \n",
    "    # Log in to the FTP server\n",
    "    ftp.login(ftp_user, ftp_password)\n",
    "    \n",
    "    # Open the file to send\n",
    "    with open(file_path, 'rb') as file:\n",
    "        # Use FTP's STOR command to upload the file\n",
    "        ftp.storbinary(f'STOR {target_path}', file)\n",
    "    \n",
    "    # Close the FTP connection\n",
    "    ftp.quit()\n",
    "\n",
    "def download_file(ftp_host, ftp_user, ftp_password, file_path, target_path):\n",
    "    # Connect to the FTP server\n",
    "    ftp = ftplib.FTP(ftp_host)\n",
    "    \n",
    "    # Log in to the FTP server\n",
    "    ftp.login(ftp_user, ftp_password)\n",
    "    \n",
    "    # Open the file to send\n",
    "    with open(file_path, 'wb') as file:\n",
    "        # Use FTP's STOR command to upload the file\n",
    "        ftp.retrbinary(f'RETR {target_path}', file.write)\n",
    "    \n",
    "    # Close the FTP connection\n",
    "    ftp.quit()\n",
    "\n",
    "def delete_file(ftp_host, ftp_user, ftp_password, target_path):\n",
    "    # Connect to the FTP server\n",
    "    ftp = ftplib.FTP(ftp_host)\n",
    "    \n",
    "    # Log in to the FTP server\n",
    "    ftp.login(ftp_user, ftp_password)\n",
    "    \n",
    "    # Delte the file\n",
    "    ftp.delete(target_path)\n",
    "    \n",
    "    # Close the FTP connection\n",
    "    ftp.quit()"
   ]
  },
  {
   "cell_type": "code",
   "execution_count": 7,
   "metadata": {},
   "outputs": [],
   "source": [
    "FTP_HOST = 'ftp.channeladvisor.com'\n",
    "FTP_USER = 'TESTPN:ftpuser@develin.com.au'\n",
    "FTP_PASSWORD = 'Advisor2023!'\n",
    "target_path = 'test.txt'\n",
    "file_path = 'test2.txt'\n",
    "\n",
    "delete_file(FTP_HOST, FTP_USER, FTP_PASSWORD, target_path)\n",
    "download_file(FTP_HOST, FTP_USER, FTP_PASSWORD, file_path, target_path)"
   ]
  },
  {
   "cell_type": "code",
   "execution_count": null,
   "metadata": {},
   "outputs": [],
   "source": []
  }
 ],
 "metadata": {
  "kernelspec": {
   "display_name": "Python 3",
   "language": "python",
   "name": "python3"
  },
  "language_info": {
   "codemirror_mode": {
    "name": "ipython",
    "version": 3
   },
   "file_extension": ".py",
   "mimetype": "text/x-python",
   "name": "python",
   "nbconvert_exporter": "python",
   "pygments_lexer": "ipython3",
   "version": "3.11.8"
  }
 },
 "nbformat": 4,
 "nbformat_minor": 2
}
