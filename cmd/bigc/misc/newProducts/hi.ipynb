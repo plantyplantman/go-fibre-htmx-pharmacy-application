{
 "cells": [
  {
   "cell_type": "code",
   "execution_count": 1,
   "metadata": {},
   "outputs": [
    {
     "data": {
      "text/plain": [
       "['C:\\\\Users\\\\admin\\\\Develin Management Dropbox\\\\Zihan\\\\files\\\\out\\\\231204\\\\231204__MS-Web__not-on-site.csv',\n",
       " 'C:\\\\Users\\\\admin\\\\Develin Management Dropbox\\\\Zihan\\\\files\\\\out\\\\240109\\\\240109__MS-Web__not-on-site.csv',\n",
       " 'C:\\\\Users\\\\admin\\\\Develin Management Dropbox\\\\Zihan\\\\files\\\\out\\\\240115\\\\240115__MS-Web__not-on-site.csv',\n",
       " 'C:\\\\Users\\\\admin\\\\Develin Management Dropbox\\\\Zihan\\\\files\\\\out\\\\240116\\\\240116__MS-Web__not-on-site.csv',\n",
       " 'C:\\\\Users\\\\admin\\\\Develin Management Dropbox\\\\Zihan\\\\files\\\\out\\\\240130\\\\240130__MS-Web__not-on-site.csv',\n",
       " 'C:\\\\Users\\\\admin\\\\Develin Management Dropbox\\\\Zihan\\\\files\\\\out\\\\240202\\\\240202__MS-Web__not-on-site.csv',\n",
       " 'C:\\\\Users\\\\admin\\\\Develin Management Dropbox\\\\Zihan\\\\files\\\\out\\\\240209\\\\240209__MS-Web__not-on-site.csv',\n",
       " 'C:\\\\Users\\\\admin\\\\Develin Management Dropbox\\\\Zihan\\\\files\\\\out\\\\240210\\\\240210__MS-Web__not-on-site.csv',\n",
       " 'C:\\\\Users\\\\admin\\\\Develin Management Dropbox\\\\Zihan\\\\files\\\\out\\\\240215\\\\240215__MS-Web__not-on-site.csv',\n",
       " 'C:\\\\Users\\\\admin\\\\Develin Management Dropbox\\\\Zihan\\\\files\\\\out\\\\240219\\\\240219__MS-Web__not-on-site.csv',\n",
       " 'C:\\\\Users\\\\admin\\\\Develin Management Dropbox\\\\Zihan\\\\files\\\\out\\\\240223\\\\240223__MS-Web__not-on-site.csv']"
      ]
     },
     "execution_count": 1,
     "metadata": {},
     "output_type": "execute_result"
    }
   ],
   "source": [
    "from glob import glob\n",
    "\n",
    "root = \"C:\\\\Users\\\\admin\\\\Develin Management Dropbox\\\\Zihan\\\\files\\\\out\\\\**\\*MS-Web__not-on-site.csv\"\n",
    "glob(root)"
   ]
  },
  {
   "cell_type": "code",
   "execution_count": null,
   "metadata": {},
   "outputs": [],
   "source": []
  }
 ],
 "metadata": {
  "kernelspec": {
   "display_name": "Python 3",
   "language": "python",
   "name": "python3"
  },
  "language_info": {
   "codemirror_mode": {
    "name": "ipython",
    "version": 3
   },
   "file_extension": ".py",
   "mimetype": "text/x-python",
   "name": "python",
   "nbconvert_exporter": "python",
   "pygments_lexer": "ipython3",
   "version": "3.11.8"
  }
 },
 "nbformat": 4,
 "nbformat_minor": 2
}
